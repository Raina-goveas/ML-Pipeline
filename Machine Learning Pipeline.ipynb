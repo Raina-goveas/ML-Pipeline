{
  "cells": [
    {
      "cell_type": "markdown",
      "source": [
        "Task1: EDA (Expected outcome - Exploring the nature of data & Identifying the techniques to be used in the next tasks)\n",
        "\n",
        "Task2: Data Cleaning (Expected Outcome - Cleaned data to be fed to the model)\n",
        "\n",
        "Task3: Dimensionality Reduction (Expected outcome - reduced  number of columns)\n",
        "\n",
        "Task4: Model Building (Expected outcome - building a binary classifier)\n",
        "\n",
        "Task5: Visualization & Interpretation (Expected outcome - charts to depict the Evaluation and results of model)"
      ],
      "metadata": {
        "id": "GuB5dCleb2hO"
      }
    },
    {
      "cell_type": "code",
      "execution_count": null,
      "metadata": {
        "id": "7me47i55Mf3p"
      },
      "outputs": [],
      "source": [
        "import numpy as np\n",
        "import pandas as pd\n",
        "import matplotlib.pyplot as plt\n",
        "import seaborn as sns\n",
        "%matplotlib inline"
      ]
    },
    {
      "cell_type": "code",
      "execution_count": null,
      "metadata": {
        "colab": {
          "base_uri": "https://localhost:8080/",
          "height": 316
        },
        "id": "3bYmdG_WNIgs",
        "outputId": "0cafc341-3127-483b-b524-797d4587b617"
      },
      "outputs": [
        {
          "data": {
            "text/html": [
              "<div>\n",
              "<style scoped>\n",
              "    .dataframe tbody tr th:only-of-type {\n",
              "        vertical-align: middle;\n",
              "    }\n",
              "\n",
              "    .dataframe tbody tr th {\n",
              "        vertical-align: top;\n",
              "    }\n",
              "\n",
              "    .dataframe thead th {\n",
              "        text-align: right;\n",
              "    }\n",
              "</style>\n",
              "<table border=\"1\" class=\"dataframe\">\n",
              "  <thead>\n",
              "    <tr style=\"text-align: right;\">\n",
              "      <th></th>\n",
              "      <th>Pid</th>\n",
              "      <th>diagnosis</th>\n",
              "      <th>radius_mean</th>\n",
              "      <th>texture_mean</th>\n",
              "      <th>perimeter_mean</th>\n",
              "      <th>area_mean</th>\n",
              "      <th>smoothness_mean</th>\n",
              "      <th>compactness_mean</th>\n",
              "      <th>concavity_mean</th>\n",
              "      <th>concave points_mean</th>\n",
              "      <th>...</th>\n",
              "      <th>radius_worst</th>\n",
              "      <th>texture_worst</th>\n",
              "      <th>perimeter_worst</th>\n",
              "      <th>area_worst</th>\n",
              "      <th>smoothness_worst</th>\n",
              "      <th>compactness_worst</th>\n",
              "      <th>concavity_worst</th>\n",
              "      <th>concave points_worst</th>\n",
              "      <th>symmetry_worst</th>\n",
              "      <th>fractal_dimension_worst</th>\n",
              "    </tr>\n",
              "  </thead>\n",
              "  <tbody>\n",
              "    <tr>\n",
              "      <th>0</th>\n",
              "      <td>8670</td>\n",
              "      <td>M</td>\n",
              "      <td>15.46</td>\n",
              "      <td>19.48</td>\n",
              "      <td>101.70</td>\n",
              "      <td>748.9</td>\n",
              "      <td>0.10920</td>\n",
              "      <td>0.12230</td>\n",
              "      <td>0.14660</td>\n",
              "      <td>0.08087</td>\n",
              "      <td>...</td>\n",
              "      <td>19.26</td>\n",
              "      <td>26.00</td>\n",
              "      <td>124.90</td>\n",
              "      <td>1156.0</td>\n",
              "      <td>0.15460</td>\n",
              "      <td>0.2394</td>\n",
              "      <td>0.3791</td>\n",
              "      <td>0.15140</td>\n",
              "      <td>0.2837</td>\n",
              "      <td>0.08019</td>\n",
              "    </tr>\n",
              "    <tr>\n",
              "      <th>1</th>\n",
              "      <td>8913</td>\n",
              "      <td>B</td>\n",
              "      <td>12.89</td>\n",
              "      <td>13.12</td>\n",
              "      <td>81.89</td>\n",
              "      <td>515.9</td>\n",
              "      <td>0.06955</td>\n",
              "      <td>0.03729</td>\n",
              "      <td>0.02260</td>\n",
              "      <td>0.01171</td>\n",
              "      <td>...</td>\n",
              "      <td>13.62</td>\n",
              "      <td>15.54</td>\n",
              "      <td>87.40</td>\n",
              "      <td>577.0</td>\n",
              "      <td>0.09616</td>\n",
              "      <td>0.1147</td>\n",
              "      <td>0.1186</td>\n",
              "      <td>0.05366</td>\n",
              "      <td>0.2309</td>\n",
              "      <td>0.06915</td>\n",
              "    </tr>\n",
              "    <tr>\n",
              "      <th>2</th>\n",
              "      <td>8915</td>\n",
              "      <td>B</td>\n",
              "      <td>14.96</td>\n",
              "      <td>19.10</td>\n",
              "      <td>97.03</td>\n",
              "      <td>687.3</td>\n",
              "      <td>0.08992</td>\n",
              "      <td>0.09823</td>\n",
              "      <td>0.05940</td>\n",
              "      <td>0.04819</td>\n",
              "      <td>...</td>\n",
              "      <td>16.25</td>\n",
              "      <td>26.19</td>\n",
              "      <td>109.10</td>\n",
              "      <td>809.8</td>\n",
              "      <td>0.13130</td>\n",
              "      <td>0.3030</td>\n",
              "      <td>0.1804</td>\n",
              "      <td>0.14890</td>\n",
              "      <td>0.2962</td>\n",
              "      <td>0.08472</td>\n",
              "    </tr>\n",
              "    <tr>\n",
              "      <th>3</th>\n",
              "      <td>9047</td>\n",
              "      <td>B</td>\n",
              "      <td>12.94</td>\n",
              "      <td>16.17</td>\n",
              "      <td>83.18</td>\n",
              "      <td>507.6</td>\n",
              "      <td>0.09879</td>\n",
              "      <td>0.08836</td>\n",
              "      <td>0.03296</td>\n",
              "      <td>0.02390</td>\n",
              "      <td>...</td>\n",
              "      <td>13.86</td>\n",
              "      <td>23.02</td>\n",
              "      <td>89.69</td>\n",
              "      <td>580.9</td>\n",
              "      <td>0.11720</td>\n",
              "      <td>0.1958</td>\n",
              "      <td>0.1810</td>\n",
              "      <td>0.08388</td>\n",
              "      <td>0.3297</td>\n",
              "      <td>0.07834</td>\n",
              "    </tr>\n",
              "    <tr>\n",
              "      <th>4</th>\n",
              "      <td>85715</td>\n",
              "      <td>M</td>\n",
              "      <td>13.17</td>\n",
              "      <td>18.66</td>\n",
              "      <td>85.98</td>\n",
              "      <td>534.6</td>\n",
              "      <td>0.11580</td>\n",
              "      <td>0.12310</td>\n",
              "      <td>0.12260</td>\n",
              "      <td>0.07340</td>\n",
              "      <td>...</td>\n",
              "      <td>15.67</td>\n",
              "      <td>27.95</td>\n",
              "      <td>102.80</td>\n",
              "      <td>759.4</td>\n",
              "      <td>0.17860</td>\n",
              "      <td>0.4166</td>\n",
              "      <td>0.5006</td>\n",
              "      <td>0.20880</td>\n",
              "      <td>0.3900</td>\n",
              "      <td>0.11790</td>\n",
              "    </tr>\n",
              "  </tbody>\n",
              "</table>\n",
              "<p>5 rows × 32 columns</p>\n",
              "</div>"
            ],
            "text/plain": [
              "     Pid diagnosis  radius_mean  texture_mean  perimeter_mean  area_mean  \\\n",
              "0   8670         M        15.46         19.48          101.70      748.9   \n",
              "1   8913         B        12.89         13.12           81.89      515.9   \n",
              "2   8915         B        14.96         19.10           97.03      687.3   \n",
              "3   9047         B        12.94         16.17           83.18      507.6   \n",
              "4  85715         M        13.17         18.66           85.98      534.6   \n",
              "\n",
              "   smoothness_mean  compactness_mean  concavity_mean  concave points_mean  \\\n",
              "0          0.10920           0.12230         0.14660              0.08087   \n",
              "1          0.06955           0.03729         0.02260              0.01171   \n",
              "2          0.08992           0.09823         0.05940              0.04819   \n",
              "3          0.09879           0.08836         0.03296              0.02390   \n",
              "4          0.11580           0.12310         0.12260              0.07340   \n",
              "\n",
              "   ...  radius_worst  texture_worst  perimeter_worst  area_worst  \\\n",
              "0  ...         19.26          26.00           124.90      1156.0   \n",
              "1  ...         13.62          15.54            87.40       577.0   \n",
              "2  ...         16.25          26.19           109.10       809.8   \n",
              "3  ...         13.86          23.02            89.69       580.9   \n",
              "4  ...         15.67          27.95           102.80       759.4   \n",
              "\n",
              "   smoothness_worst  compactness_worst  concavity_worst  concave points_worst  \\\n",
              "0           0.15460             0.2394           0.3791               0.15140   \n",
              "1           0.09616             0.1147           0.1186               0.05366   \n",
              "2           0.13130             0.3030           0.1804               0.14890   \n",
              "3           0.11720             0.1958           0.1810               0.08388   \n",
              "4           0.17860             0.4166           0.5006               0.20880   \n",
              "\n",
              "   symmetry_worst  fractal_dimension_worst  \n",
              "0          0.2837                  0.08019  \n",
              "1          0.2309                  0.06915  \n",
              "2          0.2962                  0.08472  \n",
              "3          0.3297                  0.07834  \n",
              "4          0.3900                  0.11790  \n",
              "\n",
              "[5 rows x 32 columns]"
            ]
          },
          "execution_count": 2,
          "metadata": {},
          "output_type": "execute_result"
        }
      ],
      "source": [
        "df = pd.read_csv(r'C:\\Users\\goveasraina\\Downloads\\Test2_dataset.csv - Test2_dataset.csv.csv')\n",
        "df.head()"
      ]
    },
    {
      "cell_type": "markdown",
      "metadata": {
        "id": "MymGCgrPVi-y"
      },
      "source": [
        "# Exploratory Data Analysis"
      ]
    },
    {
      "cell_type": "code",
      "execution_count": null,
      "metadata": {
        "colab": {
          "base_uri": "https://localhost:8080/"
        },
        "id": "Majak3ZHNI2_",
        "outputId": "5121cd92-30a2-41bb-871d-31d6927a474a"
      },
      "outputs": [
        {
          "name": "stdout",
          "output_type": "stream",
          "text": [
            "<class 'pandas.core.frame.DataFrame'>\n",
            "RangeIndex: 569 entries, 0 to 568\n",
            "Data columns (total 32 columns):\n",
            " #   Column                   Non-Null Count  Dtype  \n",
            "---  ------                   --------------  -----  \n",
            " 0   Pid                      569 non-null    int64  \n",
            " 1   diagnosis                569 non-null    object \n",
            " 2   radius_mean              569 non-null    float64\n",
            " 3   texture_mean             569 non-null    float64\n",
            " 4   perimeter_mean           569 non-null    float64\n",
            " 5   area_mean                569 non-null    float64\n",
            " 6   smoothness_mean          569 non-null    float64\n",
            " 7   compactness_mean         569 non-null    float64\n",
            " 8   concavity_mean           566 non-null    float64\n",
            " 9   concave points_mean      566 non-null    float64\n",
            " 10  symmetry_mean            569 non-null    float64\n",
            " 11  fractal_dimension_mean   569 non-null    float64\n",
            " 12  radius_se                569 non-null    float64\n",
            " 13  texture_se               569 non-null    float64\n",
            " 14  perimeter_se             569 non-null    float64\n",
            " 15  area_se                  569 non-null    float64\n",
            " 16  smoothness_se            569 non-null    float64\n",
            " 17  compactness_se           569 non-null    float64\n",
            " 18  concavity_se             566 non-null    float64\n",
            " 19  concave points_se        567 non-null    float64\n",
            " 20  symmetry_se              569 non-null    float64\n",
            " 21  fractal_dimension_se     569 non-null    float64\n",
            " 22  radius_worst             569 non-null    float64\n",
            " 23  texture_worst            546 non-null    float64\n",
            " 24  perimeter_worst          569 non-null    float64\n",
            " 25  area_worst               569 non-null    float64\n",
            " 26  smoothness_worst         569 non-null    float64\n",
            " 27  compactness_worst        569 non-null    float64\n",
            " 28  concavity_worst          569 non-null    float64\n",
            " 29  concave points_worst     569 non-null    float64\n",
            " 30  symmetry_worst           569 non-null    float64\n",
            " 31  fractal_dimension_worst  569 non-null    float64\n",
            "dtypes: float64(30), int64(1), object(1)\n",
            "memory usage: 142.4+ KB\n"
          ]
        }
      ],
      "source": [
        "df.info()"
      ]
    },
    {
      "cell_type": "markdown",
      "metadata": {
        "id": "nRIM4qcRQOGf"
      },
      "source": [
        "There are 32 attributes in the dataset. Diagnosis being the target class and is binary in nature.There are total of 569 instances in the dataset and 30 columns are of nature float64 while target class being an object and pid being an integer. We need to encode the target attribute.\n",
        "\n",
        "The target is binary in nature and hence we need to build a binary classifier.\n",
        "\n",
        "Various steps to be followed are:\n",
        "\n",
        "\n",
        "1.   Handle missing values\n",
        "2.   Handle outliers\n",
        "3.   Label encode target variable\n",
        "4.   Dimensionality reduction\n",
        "5.   Model Building\n",
        "6.   Model Evaluation"
      ]
    },
    {
      "cell_type": "code",
      "execution_count": null,
      "metadata": {
        "colab": {
          "base_uri": "https://localhost:8080/",
          "height": 411
        },
        "id": "4uebxQgVNVDU",
        "outputId": "abf3fad3-0dc5-4fb6-ec79-f447fef37c44"
      },
      "outputs": [
        {
          "data": {
            "text/html": [
              "<div>\n",
              "<style scoped>\n",
              "    .dataframe tbody tr th:only-of-type {\n",
              "        vertical-align: middle;\n",
              "    }\n",
              "\n",
              "    .dataframe tbody tr th {\n",
              "        vertical-align: top;\n",
              "    }\n",
              "\n",
              "    .dataframe thead th {\n",
              "        text-align: right;\n",
              "    }\n",
              "</style>\n",
              "<table border=\"1\" class=\"dataframe\">\n",
              "  <thead>\n",
              "    <tr style=\"text-align: right;\">\n",
              "      <th></th>\n",
              "      <th>Pid</th>\n",
              "      <th>radius_mean</th>\n",
              "      <th>texture_mean</th>\n",
              "      <th>perimeter_mean</th>\n",
              "      <th>area_mean</th>\n",
              "      <th>smoothness_mean</th>\n",
              "      <th>compactness_mean</th>\n",
              "      <th>concavity_mean</th>\n",
              "      <th>concave points_mean</th>\n",
              "      <th>symmetry_mean</th>\n",
              "      <th>...</th>\n",
              "      <th>radius_worst</th>\n",
              "      <th>texture_worst</th>\n",
              "      <th>perimeter_worst</th>\n",
              "      <th>area_worst</th>\n",
              "      <th>smoothness_worst</th>\n",
              "      <th>compactness_worst</th>\n",
              "      <th>concavity_worst</th>\n",
              "      <th>concave points_worst</th>\n",
              "      <th>symmetry_worst</th>\n",
              "      <th>fractal_dimension_worst</th>\n",
              "    </tr>\n",
              "  </thead>\n",
              "  <tbody>\n",
              "    <tr>\n",
              "      <th>count</th>\n",
              "      <td>5.690000e+02</td>\n",
              "      <td>569.000000</td>\n",
              "      <td>569.000000</td>\n",
              "      <td>569.000000</td>\n",
              "      <td>569.000000</td>\n",
              "      <td>569.000000</td>\n",
              "      <td>569.000000</td>\n",
              "      <td>566.000000</td>\n",
              "      <td>566.000000</td>\n",
              "      <td>569.000000</td>\n",
              "      <td>...</td>\n",
              "      <td>569.000000</td>\n",
              "      <td>546.000000</td>\n",
              "      <td>569.000000</td>\n",
              "      <td>569.000000</td>\n",
              "      <td>569.000000</td>\n",
              "      <td>569.000000</td>\n",
              "      <td>569.000000</td>\n",
              "      <td>569.000000</td>\n",
              "      <td>569.000000</td>\n",
              "      <td>569.000000</td>\n",
              "    </tr>\n",
              "    <tr>\n",
              "      <th>mean</th>\n",
              "      <td>3.037183e+07</td>\n",
              "      <td>14.127292</td>\n",
              "      <td>19.289649</td>\n",
              "      <td>91.969033</td>\n",
              "      <td>654.889104</td>\n",
              "      <td>0.096360</td>\n",
              "      <td>0.104341</td>\n",
              "      <td>0.089270</td>\n",
              "      <td>0.049178</td>\n",
              "      <td>0.181162</td>\n",
              "      <td>...</td>\n",
              "      <td>16.269190</td>\n",
              "      <td>25.675385</td>\n",
              "      <td>107.261213</td>\n",
              "      <td>880.583128</td>\n",
              "      <td>0.132369</td>\n",
              "      <td>0.254265</td>\n",
              "      <td>0.272188</td>\n",
              "      <td>0.114606</td>\n",
              "      <td>0.290076</td>\n",
              "      <td>0.083946</td>\n",
              "    </tr>\n",
              "    <tr>\n",
              "      <th>std</th>\n",
              "      <td>1.250206e+08</td>\n",
              "      <td>3.524049</td>\n",
              "      <td>4.301036</td>\n",
              "      <td>24.298981</td>\n",
              "      <td>351.914129</td>\n",
              "      <td>0.014064</td>\n",
              "      <td>0.052813</td>\n",
              "      <td>0.079667</td>\n",
              "      <td>0.038741</td>\n",
              "      <td>0.027414</td>\n",
              "      <td>...</td>\n",
              "      <td>4.833242</td>\n",
              "      <td>6.156301</td>\n",
              "      <td>33.602542</td>\n",
              "      <td>569.356993</td>\n",
              "      <td>0.022832</td>\n",
              "      <td>0.157336</td>\n",
              "      <td>0.208624</td>\n",
              "      <td>0.065732</td>\n",
              "      <td>0.061867</td>\n",
              "      <td>0.018061</td>\n",
              "    </tr>\n",
              "    <tr>\n",
              "      <th>min</th>\n",
              "      <td>8.670000e+03</td>\n",
              "      <td>6.981000</td>\n",
              "      <td>9.710000</td>\n",
              "      <td>43.790000</td>\n",
              "      <td>143.500000</td>\n",
              "      <td>0.052630</td>\n",
              "      <td>0.019380</td>\n",
              "      <td>0.000000</td>\n",
              "      <td>0.000000</td>\n",
              "      <td>0.106000</td>\n",
              "      <td>...</td>\n",
              "      <td>7.930000</td>\n",
              "      <td>12.020000</td>\n",
              "      <td>50.410000</td>\n",
              "      <td>185.200000</td>\n",
              "      <td>0.071170</td>\n",
              "      <td>0.027290</td>\n",
              "      <td>0.000000</td>\n",
              "      <td>0.000000</td>\n",
              "      <td>0.156500</td>\n",
              "      <td>0.055040</td>\n",
              "    </tr>\n",
              "    <tr>\n",
              "      <th>25%</th>\n",
              "      <td>8.692180e+05</td>\n",
              "      <td>11.700000</td>\n",
              "      <td>16.170000</td>\n",
              "      <td>75.170000</td>\n",
              "      <td>420.300000</td>\n",
              "      <td>0.086370</td>\n",
              "      <td>0.064920</td>\n",
              "      <td>0.029680</td>\n",
              "      <td>0.020413</td>\n",
              "      <td>0.161900</td>\n",
              "      <td>...</td>\n",
              "      <td>13.010000</td>\n",
              "      <td>21.085000</td>\n",
              "      <td>84.110000</td>\n",
              "      <td>515.300000</td>\n",
              "      <td>0.116600</td>\n",
              "      <td>0.147200</td>\n",
              "      <td>0.114500</td>\n",
              "      <td>0.064930</td>\n",
              "      <td>0.250400</td>\n",
              "      <td>0.071460</td>\n",
              "    </tr>\n",
              "    <tr>\n",
              "      <th>50%</th>\n",
              "      <td>9.060240e+05</td>\n",
              "      <td>13.370000</td>\n",
              "      <td>18.840000</td>\n",
              "      <td>86.240000</td>\n",
              "      <td>551.100000</td>\n",
              "      <td>0.095870</td>\n",
              "      <td>0.092630</td>\n",
              "      <td>0.061680</td>\n",
              "      <td>0.033770</td>\n",
              "      <td>0.179200</td>\n",
              "      <td>...</td>\n",
              "      <td>14.970000</td>\n",
              "      <td>25.405000</td>\n",
              "      <td>97.660000</td>\n",
              "      <td>686.500000</td>\n",
              "      <td>0.131300</td>\n",
              "      <td>0.211900</td>\n",
              "      <td>0.226700</td>\n",
              "      <td>0.099930</td>\n",
              "      <td>0.282200</td>\n",
              "      <td>0.080040</td>\n",
              "    </tr>\n",
              "    <tr>\n",
              "      <th>75%</th>\n",
              "      <td>8.813129e+06</td>\n",
              "      <td>15.780000</td>\n",
              "      <td>21.800000</td>\n",
              "      <td>104.100000</td>\n",
              "      <td>782.700000</td>\n",
              "      <td>0.105300</td>\n",
              "      <td>0.130400</td>\n",
              "      <td>0.131600</td>\n",
              "      <td>0.074030</td>\n",
              "      <td>0.195700</td>\n",
              "      <td>...</td>\n",
              "      <td>18.790000</td>\n",
              "      <td>29.705000</td>\n",
              "      <td>125.400000</td>\n",
              "      <td>1084.000000</td>\n",
              "      <td>0.146000</td>\n",
              "      <td>0.339100</td>\n",
              "      <td>0.382900</td>\n",
              "      <td>0.161400</td>\n",
              "      <td>0.317900</td>\n",
              "      <td>0.092080</td>\n",
              "    </tr>\n",
              "    <tr>\n",
              "      <th>max</th>\n",
              "      <td>9.113205e+08</td>\n",
              "      <td>28.110000</td>\n",
              "      <td>39.280000</td>\n",
              "      <td>188.500000</td>\n",
              "      <td>2501.000000</td>\n",
              "      <td>0.163400</td>\n",
              "      <td>0.345400</td>\n",
              "      <td>0.426800</td>\n",
              "      <td>0.201200</td>\n",
              "      <td>0.304000</td>\n",
              "      <td>...</td>\n",
              "      <td>36.040000</td>\n",
              "      <td>49.540000</td>\n",
              "      <td>251.200000</td>\n",
              "      <td>4254.000000</td>\n",
              "      <td>0.222600</td>\n",
              "      <td>1.058000</td>\n",
              "      <td>1.252000</td>\n",
              "      <td>0.291000</td>\n",
              "      <td>0.663800</td>\n",
              "      <td>0.207500</td>\n",
              "    </tr>\n",
              "  </tbody>\n",
              "</table>\n",
              "<p>8 rows × 31 columns</p>\n",
              "</div>"
            ],
            "text/plain": [
              "                Pid  radius_mean  texture_mean  perimeter_mean    area_mean  \\\n",
              "count  5.690000e+02   569.000000    569.000000      569.000000   569.000000   \n",
              "mean   3.037183e+07    14.127292     19.289649       91.969033   654.889104   \n",
              "std    1.250206e+08     3.524049      4.301036       24.298981   351.914129   \n",
              "min    8.670000e+03     6.981000      9.710000       43.790000   143.500000   \n",
              "25%    8.692180e+05    11.700000     16.170000       75.170000   420.300000   \n",
              "50%    9.060240e+05    13.370000     18.840000       86.240000   551.100000   \n",
              "75%    8.813129e+06    15.780000     21.800000      104.100000   782.700000   \n",
              "max    9.113205e+08    28.110000     39.280000      188.500000  2501.000000   \n",
              "\n",
              "       smoothness_mean  compactness_mean  concavity_mean  concave points_mean  \\\n",
              "count       569.000000        569.000000      566.000000           566.000000   \n",
              "mean          0.096360          0.104341        0.089270             0.049178   \n",
              "std           0.014064          0.052813        0.079667             0.038741   \n",
              "min           0.052630          0.019380        0.000000             0.000000   \n",
              "25%           0.086370          0.064920        0.029680             0.020413   \n",
              "50%           0.095870          0.092630        0.061680             0.033770   \n",
              "75%           0.105300          0.130400        0.131600             0.074030   \n",
              "max           0.163400          0.345400        0.426800             0.201200   \n",
              "\n",
              "       symmetry_mean  ...  radius_worst  texture_worst  perimeter_worst  \\\n",
              "count     569.000000  ...    569.000000     546.000000       569.000000   \n",
              "mean        0.181162  ...     16.269190      25.675385       107.261213   \n",
              "std         0.027414  ...      4.833242       6.156301        33.602542   \n",
              "min         0.106000  ...      7.930000      12.020000        50.410000   \n",
              "25%         0.161900  ...     13.010000      21.085000        84.110000   \n",
              "50%         0.179200  ...     14.970000      25.405000        97.660000   \n",
              "75%         0.195700  ...     18.790000      29.705000       125.400000   \n",
              "max         0.304000  ...     36.040000      49.540000       251.200000   \n",
              "\n",
              "        area_worst  smoothness_worst  compactness_worst  concavity_worst  \\\n",
              "count   569.000000        569.000000         569.000000       569.000000   \n",
              "mean    880.583128          0.132369           0.254265         0.272188   \n",
              "std     569.356993          0.022832           0.157336         0.208624   \n",
              "min     185.200000          0.071170           0.027290         0.000000   \n",
              "25%     515.300000          0.116600           0.147200         0.114500   \n",
              "50%     686.500000          0.131300           0.211900         0.226700   \n",
              "75%    1084.000000          0.146000           0.339100         0.382900   \n",
              "max    4254.000000          0.222600           1.058000         1.252000   \n",
              "\n",
              "       concave points_worst  symmetry_worst  fractal_dimension_worst  \n",
              "count            569.000000      569.000000               569.000000  \n",
              "mean               0.114606        0.290076                 0.083946  \n",
              "std                0.065732        0.061867                 0.018061  \n",
              "min                0.000000        0.156500                 0.055040  \n",
              "25%                0.064930        0.250400                 0.071460  \n",
              "50%                0.099930        0.282200                 0.080040  \n",
              "75%                0.161400        0.317900                 0.092080  \n",
              "max                0.291000        0.663800                 0.207500  \n",
              "\n",
              "[8 rows x 31 columns]"
            ]
          },
          "execution_count": 4,
          "metadata": {},
          "output_type": "execute_result"
        }
      ],
      "source": [
        "df.describe()"
      ]
    },
    {
      "cell_type": "markdown",
      "metadata": {
        "id": "mzkp7383QrsS"
      },
      "source": [
        "The above table gives descriptive statistics of the dataset in hand."
      ]
    },
    {
      "cell_type": "code",
      "execution_count": null,
      "metadata": {
        "colab": {
          "base_uri": "https://localhost:8080/"
        },
        "id": "aSGgCIeqNX_K",
        "outputId": "99c23069-09af-4e91-b2f0-c8935f02832c"
      },
      "outputs": [
        {
          "data": {
            "text/plain": [
              "Pid                         0\n",
              "diagnosis                   0\n",
              "radius_mean                 0\n",
              "texture_mean                0\n",
              "perimeter_mean              0\n",
              "area_mean                   0\n",
              "smoothness_mean             0\n",
              "compactness_mean            0\n",
              "concavity_mean              3\n",
              "concave points_mean         3\n",
              "symmetry_mean               0\n",
              "fractal_dimension_mean      0\n",
              "radius_se                   0\n",
              "texture_se                  0\n",
              "perimeter_se                0\n",
              "area_se                     0\n",
              "smoothness_se               0\n",
              "compactness_se              0\n",
              "concavity_se                3\n",
              "concave points_se           2\n",
              "symmetry_se                 0\n",
              "fractal_dimension_se        0\n",
              "radius_worst                0\n",
              "texture_worst              23\n",
              "perimeter_worst             0\n",
              "area_worst                  0\n",
              "smoothness_worst            0\n",
              "compactness_worst           0\n",
              "concavity_worst             0\n",
              "concave points_worst        0\n",
              "symmetry_worst              0\n",
              "fractal_dimension_worst     0\n",
              "dtype: int64"
            ]
          },
          "execution_count": 5,
          "metadata": {},
          "output_type": "execute_result"
        }
      ],
      "source": [
        "df.isna().sum()"
      ]
    },
    {
      "cell_type": "markdown",
      "metadata": {
        "id": "IbixwGUxP5Pt"
      },
      "source": [
        "There are 4 columns with missing values and are less in number compared to the total number of instances, hence we can impute them."
      ]
    },
    {
      "cell_type": "code",
      "execution_count": null,
      "metadata": {
        "colab": {
          "base_uri": "https://localhost:8080/",
          "height": 297
        },
        "id": "PsF3c_VCOtvX",
        "outputId": "bcb77945-6d32-483b-8051-48fd0df2be92"
      },
      "outputs": [
        {
          "data": {
            "text/plain": [
              "<matplotlib.axes._subplots.AxesSubplot at 0x2515f253248>"
            ]
          },
          "execution_count": 6,
          "metadata": {},
          "output_type": "execute_result"
        },
        {
          "data": {
            "image/png": "[encoded data removed]",
            "text/plain": [
              "<Figure size 432x288 with 1 Axes>"
            ]
          },
          "metadata": {
            "needs_background": "light"
          },
          "output_type": "display_data"
        }
      ],
      "source": [
        "sns.countplot(x='diagnosis', data=df)"
      ]
    },
    {
      "cell_type": "code",
      "execution_count": null,
      "metadata": {
        "colab": {
          "base_uri": "https://localhost:8080/"
        },
        "id": "JpKv6s5XPSor",
        "outputId": "a3c266c4-388a-48bf-8d61-92ce0469e471"
      },
      "outputs": [
        {
          "data": {
            "text/plain": [
              "B    357\n",
              "M    212\n",
              "Name: diagnosis, dtype: int64"
            ]
          },
          "execution_count": 7,
          "metadata": {},
          "output_type": "execute_result"
        }
      ],
      "source": [
        "df['diagnosis'].value_counts()"
      ]
    },
    {
      "cell_type": "markdown",
      "metadata": {
        "id": "bsZHDsFoPk90"
      },
      "source": [
        "The dataset can be considered balanced as the ratio of two classes present is 62% and 38% approximately."
      ]
    },
    {
      "cell_type": "code",
      "execution_count": null,
      "metadata": {
        "id": "tz3gVLHFbyCV",
        "outputId": "27b26305-c259-416e-bda4-b98e53242598"
      },
      "outputs": [
        {
          "data": {
            "image/png": "[encoded data removed]",
            "text/plain": [
              "<Figure size 1440x1440 with 36 Axes>"
            ]
          },
          "metadata": {},
          "output_type": "display_data"
        }
      ],
      "source": [
        "sns.set_style('whitegrid')\n",
        "df.hist(figsize=(20,20))\n",
        "plt.show()"
      ]
    },
    {
      "cell_type": "code",
      "execution_count": null,
      "metadata": {
        "colab": {
          "base_uri": "https://localhost:8080/",
          "height": 298
        },
        "id": "0yWRCrkrPZG4",
        "outputId": "f7ed607b-e599-4367-9c27-e392b6fd89b0"
      },
      "outputs": [
        {
          "data": {
            "text/plain": [
              "<matplotlib.axes._subplots.AxesSubplot at 0x25162204dc8>"
            ]
          },
          "execution_count": 12,
          "metadata": {},
          "output_type": "execute_result"
        },
        {
          "data": {
            "image/png": "[encoded data removed]",
            "text/plain": [
              "<Figure size 432x288 with 1 Axes>"
            ]
          },
          "metadata": {},
          "output_type": "display_data"
        }
      ],
      "source": [
        "sns.distplot(df.texture_worst)"
      ]
    },
    {
      "cell_type": "markdown",
      "metadata": {
        "id": "XZO2aRYUVr9h"
      },
      "source": [
        "## Data Cleaning - Handling Missing value and outliers"
      ]
    },
    {
      "cell_type": "markdown",
      "metadata": {
        "id": "65z0uDPARgCC"
      },
      "source": [
        "The data in the attribute texture_worst can be considered to follow an approximately normal distribution and hence we can use mean value to impute missing values."
      ]
    },
    {
      "cell_type": "code",
      "execution_count": null,
      "metadata": {
        "id": "8HzrymwKRX3G"
      },
      "outputs": [],
      "source": [
        "# missing value imputation\n",
        "df['texture_worst'].fillna((df['texture_worst'].mean()), inplace=True)"
      ]
    },
    {
      "cell_type": "code",
      "execution_count": null,
      "metadata": {
        "id": "m4QXiiDhR5BU"
      },
      "outputs": [],
      "source": [
        "df['concavity_se'].fillna((df['concavity_se'].mean()), inplace=True)\n",
        "df['concavity_mean'].fillna((df['concavity_mean'].mean()), inplace=True)\n",
        "df['concave points_se'].fillna((df['concave points_se'].mean()), inplace=True)\n",
        "\n",
        "df['concave points_mean'].fillna((df['concave points_mean'].mean()), inplace=True)"
      ]
    },
    {
      "cell_type": "code",
      "execution_count": null,
      "metadata": {
        "colab": {
          "base_uri": "https://localhost:8080/"
        },
        "id": "8C16-q2HRurA",
        "outputId": "d6c6b125-a3a5-4fa0-e1cb-829e2b5d4076"
      },
      "outputs": [
        {
          "data": {
            "text/plain": [
              "Pid                        0\n",
              "diagnosis                  0\n",
              "radius_mean                0\n",
              "texture_mean               0\n",
              "perimeter_mean             0\n",
              "area_mean                  0\n",
              "smoothness_mean            0\n",
              "compactness_mean           0\n",
              "concavity_mean             0\n",
              "concave points_mean        0\n",
              "symmetry_mean              0\n",
              "fractal_dimension_mean     0\n",
              "radius_se                  0\n",
              "texture_se                 0\n",
              "perimeter_se               0\n",
              "area_se                    0\n",
              "smoothness_se              0\n",
              "compactness_se             0\n",
              "concavity_se               0\n",
              "concave points_se          0\n",
              "symmetry_se                0\n",
              "fractal_dimension_se       0\n",
              "radius_worst               0\n",
              "texture_worst              0\n",
              "perimeter_worst            0\n",
              "area_worst                 0\n",
              "smoothness_worst           0\n",
              "compactness_worst          0\n",
              "concavity_worst            0\n",
              "concave points_worst       0\n",
              "symmetry_worst             0\n",
              "fractal_dimension_worst    0\n",
              "dtype: int64"
            ]
          },
          "execution_count": 17,
          "metadata": {},
          "output_type": "execute_result"
        }
      ],
      "source": [
        "df.isna().sum()"
      ]
    },
    {
      "cell_type": "code",
      "execution_count": null,
      "metadata": {
        "id": "ZyXA1k11SXN5"
      },
      "outputs": [],
      "source": [
        "# dropped the column as it is not useful\n",
        "df.drop(columns = [\"Pid\"],inplace = True)"
      ]
    },
    {
      "cell_type": "code",
      "execution_count": null,
      "metadata": {
        "id": "8JOJP0vuTO0M"
      },
      "outputs": [],
      "source": [
        "# Import label encoder\n",
        "from sklearn.preprocessing import LabelEncoder\n",
        " \n",
        "# label_encoder object knows how to understand word labels.\n",
        "label_encoder = LabelEncoder()\n",
        " \n",
        "# Encode labels in column 'species'.\n",
        "df['diagnosis']= label_encoder.fit_transform(df['diagnosis'])"
      ]
    },
    {
      "cell_type": "code",
      "execution_count": null,
      "metadata": {
        "colab": {
          "base_uri": "https://localhost:8080/"
        },
        "id": "v9SwVuL7TyoU",
        "outputId": "563b1da5-3631-4983-b75f-ed054d71859e"
      },
      "outputs": [
        {
          "name": "stdout",
          "output_type": "stream",
          "text": [
            "<class 'pandas.core.frame.DataFrame'>\n",
            "RangeIndex: 569 entries, 0 to 568\n",
            "Data columns (total 31 columns):\n",
            " #   Column                   Non-Null Count  Dtype  \n",
            "---  ------                   --------------  -----  \n",
            " 0   diagnosis                569 non-null    int32  \n",
            " 1   radius_mean              569 non-null    float64\n",
            " 2   texture_mean             569 non-null    float64\n",
            " 3   perimeter_mean           569 non-null    float64\n",
            " 4   area_mean                569 non-null    float64\n",
            " 5   smoothness_mean          569 non-null    float64\n",
            " 6   compactness_mean         569 non-null    float64\n",
            " 7   concavity_mean           569 non-null    float64\n",
            " 8   concave points_mean      569 non-null    float64\n",
            " 9   symmetry_mean            569 non-null    float64\n",
            " 10  fractal_dimension_mean   569 non-null    float64\n",
            " 11  radius_se                569 non-null    float64\n",
            " 12  texture_se               569 non-null    float64\n",
            " 13  perimeter_se             569 non-null    float64\n",
            " 14  area_se                  569 non-null    float64\n",
            " 15  smoothness_se            569 non-null    float64\n",
            " 16  compactness_se           569 non-null    float64\n",
            " 17  concavity_se             569 non-null    float64\n",
            " 18  concave points_se        569 non-null    float64\n",
            " 19  symmetry_se              569 non-null    float64\n",
            " 20  fractal_dimension_se     569 non-null    float64\n",
            " 21  radius_worst             569 non-null    float64\n",
            " 22  texture_worst            569 non-null    float64\n",
            " 23  perimeter_worst          569 non-null    float64\n",
            " 24  area_worst               569 non-null    float64\n",
            " 25  smoothness_worst         569 non-null    float64\n",
            " 26  compactness_worst        569 non-null    float64\n",
            " 27  concavity_worst          569 non-null    float64\n",
            " 28  concave points_worst     569 non-null    float64\n",
            " 29  symmetry_worst           569 non-null    float64\n",
            " 30  fractal_dimension_worst  569 non-null    float64\n",
            "dtypes: float64(30), int32(1)\n",
            "memory usage: 135.7 KB\n"
          ]
        }
      ],
      "source": [
        "df.info()"
      ]
    },
    {
      "cell_type": "code",
      "execution_count": null,
      "metadata": {
        "id": "faKOnR4kRxfR"
      },
      "outputs": [],
      "source": [
        "# outlier removal\n",
        "df_temp = df[df.apply(lambda x :(x-x.mean()).abs()<(3*x.std()) ).all(1)]"
      ]
    },
    {
      "cell_type": "code",
      "execution_count": null,
      "metadata": {
        "colab": {
          "base_uri": "https://localhost:8080/"
        },
        "id": "WL4Xs_q-STeV",
        "outputId": "dca4dff5-7a34-4175-f88f-35f4b8939563"
      },
      "outputs": [
        {
          "name": "stdout",
          "output_type": "stream",
          "text": [
            "<class 'pandas.core.frame.DataFrame'>\n",
            "Int64Index: 495 entries, 0 to 568\n",
            "Data columns (total 31 columns):\n",
            " #   Column                   Non-Null Count  Dtype  \n",
            "---  ------                   --------------  -----  \n",
            " 0   diagnosis                495 non-null    int32  \n",
            " 1   radius_mean              495 non-null    float64\n",
            " 2   texture_mean             495 non-null    float64\n",
            " 3   perimeter_mean           495 non-null    float64\n",
            " 4   area_mean                495 non-null    float64\n",
            " 5   smoothness_mean          495 non-null    float64\n",
            " 6   compactness_mean         495 non-null    float64\n",
            " 7   concavity_mean           495 non-null    float64\n",
            " 8   concave points_mean      495 non-null    float64\n",
            " 9   symmetry_mean            495 non-null    float64\n",
            " 10  fractal_dimension_mean   495 non-null    float64\n",
            " 11  radius_se                495 non-null    float64\n",
            " 12  texture_se               495 non-null    float64\n",
            " 13  perimeter_se             495 non-null    float64\n",
            " 14  area_se                  495 non-null    float64\n",
            " 15  smoothness_se            495 non-null    float64\n",
            " 16  compactness_se           495 non-null    float64\n",
            " 17  concavity_se             495 non-null    float64\n",
            " 18  concave points_se        495 non-null    float64\n",
            " 19  symmetry_se              495 non-null    float64\n",
            " 20  fractal_dimension_se     495 non-null    float64\n",
            " 21  radius_worst             495 non-null    float64\n",
            " 22  texture_worst            495 non-null    float64\n",
            " 23  perimeter_worst          495 non-null    float64\n",
            " 24  area_worst               495 non-null    float64\n",
            " 25  smoothness_worst         495 non-null    float64\n",
            " 26  compactness_worst        495 non-null    float64\n",
            " 27  concavity_worst          495 non-null    float64\n",
            " 28  concave points_worst     495 non-null    float64\n",
            " 29  symmetry_worst           495 non-null    float64\n",
            " 30  fractal_dimension_worst  495 non-null    float64\n",
            "dtypes: float64(30), int32(1)\n",
            "memory usage: 121.8 KB\n"
          ]
        }
      ],
      "source": [
        "df_temp.info()"
      ]
    },
    {
      "cell_type": "code",
      "execution_count": null,
      "metadata": {
        "colab": {
          "base_uri": "https://localhost:8080/"
        },
        "id": "PF9dBQf5Uvne",
        "outputId": "53c505e0-2945-45ae-f3bd-bd2c096e0e07"
      },
      "outputs": [
        {
          "data": {
            "text/plain": [
              "0    332\n",
              "1    163\n",
              "Name: diagnosis, dtype: int64"
            ]
          },
          "execution_count": 23,
          "metadata": {},
          "output_type": "execute_result"
        }
      ],
      "source": [
        "df_temp['diagnosis'].value_counts()"
      ]
    },
    {
      "cell_type": "markdown",
      "metadata": {
        "id": "871JTYLnUpb_"
      },
      "source": [
        "After removal of outliers, the dataset has 494 instances. "
      ]
    },
    {
      "cell_type": "code",
      "execution_count": null,
      "metadata": {
        "id": "zskLxNnDUojU"
      },
      "outputs": [],
      "source": [
        "# separate x and y from the dataset\n",
        "X = df_temp.drop(\"diagnosis\", axis = 1)\n",
        "y = df_temp.diagnosis.values"
      ]
    },
    {
      "cell_type": "markdown",
      "metadata": {
        "id": "W0WIiKz1dvxv"
      },
      "source": [
        "## Class Balancing"
      ]
    },
    {
      "cell_type": "code",
      "execution_count": null,
      "metadata": {
        "id": "dxNXM910c9h_"
      },
      "outputs": [],
      "source": [
        "from imblearn.over_sampling import SMOTE\n",
        "sm = SMOTE(random_state=2) \n",
        "X_new, y_new = sm.fit_resample(X, y.ravel())"
      ]
    },
    {
      "cell_type": "markdown",
      "metadata": {
        "id": "kyBJ5ovuWHm1"
      },
      "source": [
        "## StandardScaler"
      ]
    },
    {
      "cell_type": "code",
      "execution_count": null,
      "metadata": {
        "colab": {
          "base_uri": "https://localhost:8080/"
        },
        "id": "mBoM_19NT5Gl",
        "outputId": "a7170012-eee7-4229-9119-46518ceaef59"
      },
      "outputs": [
        {
          "name": "stdout",
          "output_type": "stream",
          "text": [
            "[[ 0.2107727   0.00806286  0.24611415 ...  0.45688183 -0.14020062\n",
            "  -0.20022631]\n",
            " [-0.56692414 -1.67432903 -0.63136963 ... -1.15469545 -1.18748775\n",
            "  -0.95919603]\n",
            " [ 0.05946981 -0.09245741  0.03925654 ...  0.4156608   0.10773667\n",
            "   0.11119876]\n",
            " ...\n",
            " [ 0.09262171  0.84751871  0.13543011 ...  0.98387335 -0.31671719\n",
            "   0.34301078]\n",
            " [ 0.19988104  1.07717443  0.31370252 ...  1.37600781  0.08160864\n",
            "   1.39799716]\n",
            " [ 1.98237732  0.89807542  2.03006078 ...  1.72350078  1.21132234\n",
            "   0.53635223]]\n"
          ]
        }
      ],
      "source": [
        "from sklearn.preprocessing import StandardScaler\n",
        "scaler = StandardScaler()\n",
        "# transform data\n",
        "X_sc = scaler.fit_transform(X_new)\n",
        "print(X_sc)"
      ]
    },
    {
      "cell_type": "markdown",
      "metadata": {
        "id": "QQ3WnXJjWKUI"
      },
      "source": [
        "## Train Test Split"
      ]
    },
    {
      "cell_type": "code",
      "execution_count": null,
      "metadata": {
        "id": "2Mrvgz5-VZJ-"
      },
      "outputs": [],
      "source": [
        "from sklearn.model_selection import train_test_split\n",
        "X_train_1,X_test_1,y_train,y_test = train_test_split(X_sc,y_new,random_state=0,stratify=y_new)"
      ]
    },
    {
      "cell_type": "markdown",
      "metadata": {
        "id": "Vp4tncMaWOTK"
      },
      "source": [
        "## Linear Discriminant Analysis\n",
        "\n",
        "LDA is choosen as the dataset is labelled and LDA works on supervised dataset."
      ]
    },
    {
      "cell_type": "code",
      "execution_count": null,
      "metadata": {
        "colab": {
          "base_uri": "https://localhost:8080/",
          "height": 456
        },
        "id": "yuYw3csGVdpX",
        "outputId": "1b6c8e9f-6c54-4d24-eeb4-431a9dfabf2b"
      },
      "outputs": [
        {
          "data": {
            "text/html": [
              "<div>\n",
              "<style scoped>\n",
              "    .dataframe tbody tr th:only-of-type {\n",
              "        vertical-align: middle;\n",
              "    }\n",
              "\n",
              "    .dataframe tbody tr th {\n",
              "        vertical-align: top;\n",
              "    }\n",
              "\n",
              "    .dataframe thead th {\n",
              "        text-align: right;\n",
              "    }\n",
              "</style>\n",
              "<table border=\"1\" class=\"dataframe\">\n",
              "  <thead>\n",
              "    <tr style=\"text-align: right;\">\n",
              "      <th></th>\n",
              "      <th>0</th>\n",
              "      <th>1</th>\n",
              "      <th>2</th>\n",
              "      <th>3</th>\n",
              "      <th>4</th>\n",
              "      <th>5</th>\n",
              "      <th>6</th>\n",
              "      <th>7</th>\n",
              "      <th>8</th>\n",
              "      <th>9</th>\n",
              "      <th>...</th>\n",
              "      <th>20</th>\n",
              "      <th>21</th>\n",
              "      <th>22</th>\n",
              "      <th>23</th>\n",
              "      <th>24</th>\n",
              "      <th>25</th>\n",
              "      <th>26</th>\n",
              "      <th>27</th>\n",
              "      <th>28</th>\n",
              "      <th>29</th>\n",
              "    </tr>\n",
              "  </thead>\n",
              "  <tbody>\n",
              "    <tr>\n",
              "      <th>0</th>\n",
              "      <td>0.202383</td>\n",
              "      <td>0.840577</td>\n",
              "      <td>0.333871</td>\n",
              "      <td>0.061183</td>\n",
              "      <td>2.022763</td>\n",
              "      <td>2.141630</td>\n",
              "      <td>1.819273</td>\n",
              "      <td>1.139898</td>\n",
              "      <td>0.566733</td>\n",
              "      <td>1.865347</td>\n",
              "      <td>...</td>\n",
              "      <td>0.024927</td>\n",
              "      <td>1.433906</td>\n",
              "      <td>0.172867</td>\n",
              "      <td>-0.091490</td>\n",
              "      <td>1.944677</td>\n",
              "      <td>1.731552</td>\n",
              "      <td>1.584045</td>\n",
              "      <td>1.548530</td>\n",
              "      <td>0.305128</td>\n",
              "      <td>1.791075</td>\n",
              "    </tr>\n",
              "    <tr>\n",
              "      <th>1</th>\n",
              "      <td>-0.648628</td>\n",
              "      <td>-0.608285</td>\n",
              "      <td>-0.687624</td>\n",
              "      <td>-0.672453</td>\n",
              "      <td>-0.850298</td>\n",
              "      <td>-1.178633</td>\n",
              "      <td>-0.948817</td>\n",
              "      <td>-0.870633</td>\n",
              "      <td>0.004909</td>\n",
              "      <td>-0.605132</td>\n",
              "      <td>...</td>\n",
              "      <td>-0.614928</td>\n",
              "      <td>-0.724588</td>\n",
              "      <td>-0.684513</td>\n",
              "      <td>-0.640849</td>\n",
              "      <td>-0.535573</td>\n",
              "      <td>-0.836030</td>\n",
              "      <td>-0.550834</td>\n",
              "      <td>-0.415190</td>\n",
              "      <td>0.718654</td>\n",
              "      <td>-0.673895</td>\n",
              "    </tr>\n",
              "    <tr>\n",
              "      <th>2</th>\n",
              "      <td>-0.491273</td>\n",
              "      <td>0.341367</td>\n",
              "      <td>-0.450203</td>\n",
              "      <td>-0.534995</td>\n",
              "      <td>-0.775799</td>\n",
              "      <td>0.108013</td>\n",
              "      <td>0.252808</td>\n",
              "      <td>-0.516085</td>\n",
              "      <td>-1.060019</td>\n",
              "      <td>-0.252359</td>\n",
              "      <td>...</td>\n",
              "      <td>-0.513180</td>\n",
              "      <td>-0.101853</td>\n",
              "      <td>-0.384221</td>\n",
              "      <td>-0.531661</td>\n",
              "      <td>0.072976</td>\n",
              "      <td>0.717617</td>\n",
              "      <td>0.946805</td>\n",
              "      <td>-0.092182</td>\n",
              "      <td>-0.683679</td>\n",
              "      <td>-0.093668</td>\n",
              "    </tr>\n",
              "    <tr>\n",
              "      <th>3</th>\n",
              "      <td>-0.037364</td>\n",
              "      <td>-0.687643</td>\n",
              "      <td>-0.085655</td>\n",
              "      <td>-0.131681</td>\n",
              "      <td>-0.803331</td>\n",
              "      <td>-0.879830</td>\n",
              "      <td>-0.609545</td>\n",
              "      <td>-0.721997</td>\n",
              "      <td>-1.747504</td>\n",
              "      <td>-1.461606</td>\n",
              "      <td>...</td>\n",
              "      <td>-0.146004</td>\n",
              "      <td>-0.105616</td>\n",
              "      <td>-0.219190</td>\n",
              "      <td>-0.252997</td>\n",
              "      <td>-0.936443</td>\n",
              "      <td>-0.413211</td>\n",
              "      <td>-0.236084</td>\n",
              "      <td>-0.748751</td>\n",
              "      <td>-0.897897</td>\n",
              "      <td>-1.178500</td>\n",
              "    </tr>\n",
              "    <tr>\n",
              "      <th>4</th>\n",
              "      <td>-0.745462</td>\n",
              "      <td>-0.113620</td>\n",
              "      <td>-0.808993</td>\n",
              "      <td>-0.761488</td>\n",
              "      <td>-1.068936</td>\n",
              "      <td>-1.468011</td>\n",
              "      <td>-1.282663</td>\n",
              "      <td>-1.276874</td>\n",
              "      <td>-1.163366</td>\n",
              "      <td>-0.388740</td>\n",
              "      <td>...</td>\n",
              "      <td>-0.833906</td>\n",
              "      <td>0.462559</td>\n",
              "      <td>-0.913938</td>\n",
              "      <td>-0.816020</td>\n",
              "      <td>-0.550063</td>\n",
              "      <td>-1.303806</td>\n",
              "      <td>-1.423608</td>\n",
              "      <td>-1.382730</td>\n",
              "      <td>-0.701531</td>\n",
              "      <td>-0.758454</td>\n",
              "    </tr>\n",
              "    <tr>\n",
              "      <th>5</th>\n",
              "      <td>-0.733357</td>\n",
              "      <td>-1.190245</td>\n",
              "      <td>-0.790832</td>\n",
              "      <td>-0.746805</td>\n",
              "      <td>-0.770131</td>\n",
              "      <td>-1.381056</td>\n",
              "      <td>-1.079435</td>\n",
              "      <td>-0.933065</td>\n",
              "      <td>-1.019579</td>\n",
              "      <td>-0.819705</td>\n",
              "      <td>...</td>\n",
              "      <td>-0.871509</td>\n",
              "      <td>-1.721715</td>\n",
              "      <td>-0.927529</td>\n",
              "      <td>-0.838015</td>\n",
              "      <td>-1.390441</td>\n",
              "      <td>-1.480273</td>\n",
              "      <td>-1.349098</td>\n",
              "      <td>-1.249174</td>\n",
              "      <td>-1.209306</td>\n",
              "      <td>-1.606108</td>\n",
              "    </tr>\n",
              "    <tr>\n",
              "      <th>6</th>\n",
              "      <td>-1.987356</td>\n",
              "      <td>-0.690288</td>\n",
              "      <td>-1.968192</td>\n",
              "      <td>-1.581549</td>\n",
              "      <td>-0.836532</td>\n",
              "      <td>-1.057745</td>\n",
              "      <td>-1.158842</td>\n",
              "      <td>-1.351850</td>\n",
              "      <td>-0.129892</td>\n",
              "      <td>0.625936</td>\n",
              "      <td>...</td>\n",
              "      <td>-1.804048</td>\n",
              "      <td>-0.760334</td>\n",
              "      <td>-1.796368</td>\n",
              "      <td>-1.409286</td>\n",
              "      <td>-0.187831</td>\n",
              "      <td>-0.958364</td>\n",
              "      <td>-1.236990</td>\n",
              "      <td>-1.616701</td>\n",
              "      <td>0.391377</td>\n",
              "      <td>-0.619585</td>\n",
              "    </tr>\n",
              "    <tr>\n",
              "      <th>7</th>\n",
              "      <td>-1.293178</td>\n",
              "      <td>-0.042197</td>\n",
              "      <td>-1.272761</td>\n",
              "      <td>-1.162302</td>\n",
              "      <td>0.288237</td>\n",
              "      <td>-0.436808</td>\n",
              "      <td>-0.944397</td>\n",
              "      <td>-1.177354</td>\n",
              "      <td>1.883136</td>\n",
              "      <td>0.585931</td>\n",
              "      <td>...</td>\n",
              "      <td>-1.234261</td>\n",
              "      <td>-0.506349</td>\n",
              "      <td>-1.247559</td>\n",
              "      <td>-1.093899</td>\n",
              "      <td>-0.564552</td>\n",
              "      <td>-0.859732</td>\n",
              "      <td>-1.173639</td>\n",
              "      <td>-1.511340</td>\n",
              "      <td>-0.162019</td>\n",
              "      <td>-0.521276</td>\n",
              "    </tr>\n",
              "    <tr>\n",
              "      <th>8</th>\n",
              "      <td>-0.839269</td>\n",
              "      <td>1.439154</td>\n",
              "      <td>-0.820952</td>\n",
              "      <td>-0.833653</td>\n",
              "      <td>0.540075</td>\n",
              "      <td>-0.285993</td>\n",
              "      <td>-0.571595</td>\n",
              "      <td>-0.297284</td>\n",
              "      <td>0.099270</td>\n",
              "      <td>1.256927</td>\n",
              "      <td>...</td>\n",
              "      <td>-0.915747</td>\n",
              "      <td>0.820019</td>\n",
              "      <td>-0.915556</td>\n",
              "      <td>-0.875720</td>\n",
              "      <td>-0.120214</td>\n",
              "      <td>-0.602830</td>\n",
              "      <td>-0.709926</td>\n",
              "      <td>-0.057557</td>\n",
              "      <td>-0.612273</td>\n",
              "      <td>-0.040733</td>\n",
              "    </tr>\n",
              "    <tr>\n",
              "      <th>9</th>\n",
              "      <td>0.283398</td>\n",
              "      <td>0.227620</td>\n",
              "      <td>0.223967</td>\n",
              "      <td>0.182597</td>\n",
              "      <td>-0.029192</td>\n",
              "      <td>-0.384730</td>\n",
              "      <td>-0.396015</td>\n",
              "      <td>-0.035239</td>\n",
              "      <td>-0.808390</td>\n",
              "      <td>-1.108833</td>\n",
              "      <td>...</td>\n",
              "      <td>0.661341</td>\n",
              "      <td>1.282837</td>\n",
              "      <td>0.534774</td>\n",
              "      <td>0.607151</td>\n",
              "      <td>0.377251</td>\n",
              "      <td>0.716088</td>\n",
              "      <td>0.030023</td>\n",
              "      <td>0.501401</td>\n",
              "      <td>1.049898</td>\n",
              "      <td>0.220507</td>\n",
              "    </tr>\n",
              "  </tbody>\n",
              "</table>\n",
              "<p>10 rows × 30 columns</p>\n",
              "</div>"
            ],
            "text/plain": [
              "         0         1         2         3         4         5         6   \\\n",
              "0  0.202383  0.840577  0.333871  0.061183  2.022763  2.141630  1.819273   \n",
              "1 -0.648628 -0.608285 -0.687624 -0.672453 -0.850298 -1.178633 -0.948817   \n",
              "2 -0.491273  0.341367 -0.450203 -0.534995 -0.775799  0.108013  0.252808   \n",
              "3 -0.037364 -0.687643 -0.085655 -0.131681 -0.803331 -0.879830 -0.609545   \n",
              "4 -0.745462 -0.113620 -0.808993 -0.761488 -1.068936 -1.468011 -1.282663   \n",
              "5 -0.733357 -1.190245 -0.790832 -0.746805 -0.770131 -1.381056 -1.079435   \n",
              "6 -1.987356 -0.690288 -1.968192 -1.581549 -0.836532 -1.057745 -1.158842   \n",
              "7 -1.293178 -0.042197 -1.272761 -1.162302  0.288237 -0.436808 -0.944397   \n",
              "8 -0.839269  1.439154 -0.820952 -0.833653  0.540075 -0.285993 -0.571595   \n",
              "9  0.283398  0.227620  0.223967  0.182597 -0.029192 -0.384730 -0.396015   \n",
              "\n",
              "         7         8         9   ...        20        21        22        23  \\\n",
              "0  1.139898  0.566733  1.865347  ...  0.024927  1.433906  0.172867 -0.091490   \n",
              "1 -0.870633  0.004909 -0.605132  ... -0.614928 -0.724588 -0.684513 -0.640849   \n",
              "2 -0.516085 -1.060019 -0.252359  ... -0.513180 -0.101853 -0.384221 -0.531661   \n",
              "3 -0.721997 -1.747504 -1.461606  ... -0.146004 -0.105616 -0.219190 -0.252997   \n",
              "4 -1.276874 -1.163366 -0.388740  ... -0.833906  0.462559 -0.913938 -0.816020   \n",
              "5 -0.933065 -1.019579 -0.819705  ... -0.871509 -1.721715 -0.927529 -0.838015   \n",
              "6 -1.351850 -0.129892  0.625936  ... -1.804048 -0.760334 -1.796368 -1.409286   \n",
              "7 -1.177354  1.883136  0.585931  ... -1.234261 -0.506349 -1.247559 -1.093899   \n",
              "8 -0.297284  0.099270  1.256927  ... -0.915747  0.820019 -0.915556 -0.875720   \n",
              "9 -0.035239 -0.808390 -1.108833  ...  0.661341  1.282837  0.534774  0.607151   \n",
              "\n",
              "         24        25        26        27        28        29  \n",
              "0  1.944677  1.731552  1.584045  1.548530  0.305128  1.791075  \n",
              "1 -0.535573 -0.836030 -0.550834 -0.415190  0.718654 -0.673895  \n",
              "2  0.072976  0.717617  0.946805 -0.092182 -0.683679 -0.093668  \n",
              "3 -0.936443 -0.413211 -0.236084 -0.748751 -0.897897 -1.178500  \n",
              "4 -0.550063 -1.303806 -1.423608 -1.382730 -0.701531 -0.758454  \n",
              "5 -1.390441 -1.480273 -1.349098 -1.249174 -1.209306 -1.606108  \n",
              "6 -0.187831 -0.958364 -1.236990 -1.616701  0.391377 -0.619585  \n",
              "7 -0.564552 -0.859732 -1.173639 -1.511340 -0.162019 -0.521276  \n",
              "8 -0.120214 -0.602830 -0.709926 -0.057557 -0.612273 -0.040733  \n",
              "9  0.377251  0.716088  0.030023  0.501401  1.049898  0.220507  \n",
              "\n",
              "[10 rows x 30 columns]"
            ]
          },
          "execution_count": 28,
          "metadata": {},
          "output_type": "execute_result"
        }
      ],
      "source": [
        "from sklearn.discriminant_analysis import LinearDiscriminantAnalysis as LDA\n",
        "lda = LDA(n_components=1)\n",
        "X_train = lda.fit_transform(X_train_1, y_train)\n",
        "X_test = lda.transform(X_test_1)\n",
        "LDA_df = pd.DataFrame(X_test_1)\n",
        "LDA_df.head(10)"
      ]
    },
    {
      "cell_type": "markdown",
      "metadata": {
        "id": "_8pFf9UNXprA"
      },
      "source": [
        "## Model Building"
      ]
    },
    {
      "cell_type": "code",
      "execution_count": null,
      "metadata": {
        "id": "gUXmXZh7VfZS"
      },
      "outputs": [],
      "source": [
        "# logistic regression\n",
        "from sklearn.linear_model import LogisticRegression as logr\n",
        "model_lr = logr().fit(X_train_1,y_train)"
      ]
    },
    {
      "cell_type": "code",
      "execution_count": null,
      "metadata": {
        "id": "h0RyqSo4XxgN"
      },
      "outputs": [],
      "source": [
        "#K-NN classifier\n",
        "from sklearn.neighbors import KNeighborsClassifier  \n",
        "classifier_knn= KNeighborsClassifier(n_neighbors=5, metric='minkowski', p=2 )  \n",
        "model_knn = classifier_knn.fit(X_train_1, y_train)  "
      ]
    },
    {
      "cell_type": "code",
      "execution_count": null,
      "metadata": {
        "id": "ocv80WSBbZPl"
      },
      "outputs": [],
      "source": [
        "# Random Forest\n",
        "from sklearn.ensemble import RandomForestClassifier\n",
        "model_rfc = RandomForestClassifier(max_depth=2, random_state=0).fit(X_train_1, y_train)"
      ]
    },
    {
      "cell_type": "markdown",
      "metadata": {
        "id": "U6QNZawCXt3V"
      },
      "source": [
        "## Model Evaluation"
      ]
    },
    {
      "cell_type": "code",
      "execution_count": null,
      "metadata": {
        "colab": {
          "base_uri": "https://localhost:8080/"
        },
        "id": "HDmHtEy7WgIc",
        "outputId": "8283ead3-ba75-4f01-fe7e-02a39bee67ce"
      },
      "outputs": [
        {
          "name": "stdout",
          "output_type": "stream",
          "text": [
            "0.9759036144578314\n"
          ]
        }
      ],
      "source": [
        "score_lr = model_lr.score(X_test_1,y_test)\n",
        "print(score_lr)"
      ]
    },
    {
      "cell_type": "code",
      "execution_count": null,
      "metadata": {
        "colab": {
          "base_uri": "https://localhost:8080/"
        },
        "id": "39oBf1pyWiBr",
        "outputId": "d0f78bd1-e432-420d-8f4c-1b7d6f7830e4"
      },
      "outputs": [
        {
          "name": "stdout",
          "output_type": "stream",
          "text": [
            "0.963855421686747\n"
          ]
        }
      ],
      "source": [
        "score_knn = model_knn.score(X_test_1,y_test)\n",
        "print(score_knn)"
      ]
    },
    {
      "cell_type": "code",
      "execution_count": null,
      "metadata": {
        "colab": {
          "base_uri": "https://localhost:8080/"
        },
        "id": "Ou5q37TfXZ6F",
        "outputId": "bca58161-b627-4f2f-f7fb-1466d24ac190"
      },
      "outputs": [
        {
          "name": "stdout",
          "output_type": "stream",
          "text": [
            "0.9036144578313253\n"
          ]
        }
      ],
      "source": [
        "score_rfc = model_rfc.score(X_test_1,y_test)\n",
        "print(score_rfc)"
      ]
    },
    {
      "cell_type": "markdown",
      "metadata": {
        "id": "Zp9VJ7lFd8_F"
      },
      "source": [
        "Logestic regression was the best of all giving an accuracy of 98.2% and the other two are also decent ones."
      ]
    },
    {
      "cell_type": "markdown",
      "metadata": {
        "id": "QR4zYt6zet0W"
      },
      "source": [
        "## ROC Curve"
      ]
    },
    {
      "cell_type": "code",
      "execution_count": null,
      "metadata": {
        "colab": {
          "base_uri": "https://localhost:8080/",
          "height": 315
        },
        "id": "3PLEg9SRbjty",
        "outputId": "9bee7408-5be4-4298-b365-ef3eaaae8c5b"
      },
      "outputs": [
        {
          "name": "stdout",
          "output_type": "stream",
          "text": [
            "No Skill: ROC AUC=0.500\n",
            "Logistic: ROC AUC=0.995\n"
          ]
        },
        {
          "data": {
            "image/png": "[encoded data removed]",
            "text/plain": [
              "<Figure size 432x288 with 1 Axes>"
            ]
          },
          "metadata": {},
          "output_type": "display_data"
        }
      ],
      "source": [
        "from sklearn.metrics import roc_curve\n",
        "from sklearn.metrics import roc_auc_score\n",
        "\n",
        "# generate a no skill prediction (majority class)\n",
        "ns_probs = [0 for _ in range(len(y_test))]\n",
        "\n",
        "# predict probabilities\n",
        "lr_probs = model_lr.predict_proba(X_test_1)\n",
        "# keep probabilities for the positive outcome only\n",
        "lr_probs = lr_probs[:, 1]\n",
        "\n",
        "# calculate scores\n",
        "ns_auc = roc_auc_score(y_test, ns_probs)\n",
        "lr_auc = roc_auc_score(y_test, lr_probs)\n",
        "\n",
        "# summarize scores\n",
        "print('No Skill: ROC AUC=%.3f' % (ns_auc))\n",
        "print('Logistic: ROC AUC=%.3f' % (lr_auc))\n",
        "\n",
        "# calculate roc curves\n",
        "ns_fpr, ns_tpr, _ = roc_curve(y_test, ns_probs)\n",
        "lr_fpr, lr_tpr, _ = roc_curve(y_test, lr_probs)\n",
        "\n",
        "# plot the roc curve for the model\n",
        "plt.plot(ns_fpr, ns_tpr, linestyle='--', label='No Skill')\n",
        "plt.plot(lr_fpr, lr_tpr, marker='.', label='Logistic')\n",
        "\n",
        "# axis labels\n",
        "plt.xlabel('False Positive Rate')\n",
        "plt.ylabel('True Positive Rate')\n",
        "\n",
        "# show the legend\n",
        "plt.legend()\n",
        "# show the plot\n",
        "plt.show()"
      ]
    },
    {
      "cell_type": "code",
      "execution_count": null,
      "metadata": {
        "id": "UZzJk6_Kck3q"
      },
      "outputs": [],
      "source": []
    }
  ],
  "metadata": {
    "colab": {
      "collapsed_sections": [],
      "name": "Copy of 2148051_LabTest-2.ipynb",
      "provenance": []
    },
    "kernelspec": {
      "display_name": "Python 3",
      "language": "python",
      "name": "python3"
    },
    "language_info": {
      "codemirror_mode": {
        "name": "ipython",
        "version": 3
      },
      "file_extension": ".py",
      "mimetype": "text/x-python",
      "name": "python",
      "nbconvert_exporter": "python",
      "pygments_lexer": "ipython3",
      "version": "3.7.6"
    }
  },
  "nbformat": 4,
  "nbformat_minor": 0
}